{
 "cells": [
  {
   "cell_type": "markdown",
   "metadata": {},
   "source": [
    "## Lossless Compression with Machine Learning\n",
    "#### Author: Mingtian Zhang"
   ]
  },
  {
   "cell_type": "code",
   "execution_count": 56,
   "metadata": {},
   "outputs": [],
   "source": [
    "import torch\n",
    "import torchvision\n",
    "import numpy as np\n",
    "import matplotlib.pyplot as plt\n",
    "%matplotlib inline"
   ]
  },
  {
   "cell_type": "markdown",
   "metadata": {},
   "source": [
    "### Binary MNIST"
   ]
  },
  {
   "cell_type": "code",
   "execution_count": 98,
   "metadata": {},
   "outputs": [
    {
     "name": "stdout",
     "output_type": "stream",
     "text": [
      "train_data_size (10000, 784)\n",
      "test_data_size (10000, 784)\n"
     ]
    },
    {
     "data": {
      "image/png": "[encoded data removed]",
      "text/plain": [
       "<Figure size 432x288 with 1 Axes>"
      ]
     },
     "metadata": {
      "needs_background": "light"
     },
     "output_type": "display_data"
    }
   ],
   "source": [
    "train_data=torchvision.datasets.MNIST('../data', train=True, download=False,transform=torchvision.transforms.ToTensor())\n",
    "test_data=torchvision.datasets.MNIST('../data', train=False, download=False,transform=torchvision.transforms.ToTensor())\n",
    "train_data_list=[]\n",
    "test_data_list=[]\n",
    "for x,_ in train_data:\n",
    "    train_data_list.append(torch.round(x).numpy())\n",
    "    \n",
    "for x,_ in test_data:\n",
    "    test_data_list.append(torch.round(x).numpy())\n",
    "    \n",
    "train_data=np.stack(train_data_list).reshape(60000,784).astype(int)\n",
    "test_data=np.stack(test_data_list).reshape(-1,784).astype(int)\n",
    "print('train_data_size',np.shape(test_data))\n",
    "print('test_data_size',np.shape(test_data))\n",
    "plt.imshow(train_data[0].reshape(28,28))\n",
    "plt.show()"
   ]
  },
  {
   "cell_type": "markdown",
   "metadata": {},
   "source": [
    "### Independent Multivariate Bernoulli"
   ]
  },
  {
   "cell_type": "code",
   "execution_count": 94,
   "metadata": {},
   "outputs": [
    {
     "name": "stdout",
     "output_type": "stream",
     "text": [
      "total bits of one test imgae: 256.33141968370705\n",
      "bits per dim of one test image: 0.3269533414332998\n"
     ]
    }
   ],
   "source": [
    "model=np.mean(train_data,0)+0.00001\n",
    "encode_total=-(test_data[0]*np.log2(model)+(1-test_data[0])*np.log2(1-model)).sum()\n",
    "encode_per_dim=encode_total/784\n",
    "print('total bits of one test imgae:',encode_total)\n",
    "print('bits per dim of one test image:', encode_per_dim)"
   ]
  },
  {
   "cell_type": "markdown",
   "metadata": {},
   "source": [
    "### Arithmetic Coding"
   ]
  },
  {
   "cell_type": "code",
   "execution_count": 95,
   "metadata": {},
   "outputs": [],
   "source": [
    "from decimal import *\n",
    "getcontext().prec = 200\n",
    "\n",
    "def bin_2_float(binary):\n",
    "        prob = Decimal(0.0)\n",
    "        \n",
    "        for index, i in enumerate(binary):\n",
    "            power=index+1\n",
    "            prob += ((Decimal(2) ** (-power)) * int(i))\n",
    "            \n",
    "        return prob\n",
    "\n",
    "def range_2_bin(low,high):\n",
    "    code = [] \n",
    "    prob = Decimal(0.0)\n",
    "    \n",
    "    while(prob < low):\n",
    "        code.append(1)\n",
    "        prob = bin_2_float(code)\n",
    "        if prob > high:\n",
    "            code[-1] = 0\n",
    "        prob = bin_2_float(code)\n",
    "        \n",
    "    return code\n",
    "\n",
    "def get_cdf_bound(model):\n",
    "    model=model.reshape(784,1)\n",
    "    p0_table=np.concatenate((np.zeros((784,1)),1-model),1).reshape(784,1,2)\n",
    "    p1_table=np.concatenate((1-model,np.ones((784,1))),1).reshape(784,1,2)\n",
    "    p_list=np.concatenate((p0_table,p1_table),1)\n",
    "    return p_list\n",
    "\n",
    "def encode(data,model):\n",
    "    p_list=get_cdf_bound(model)\n",
    "    o_low = Decimal(0.0)\n",
    "    o_high = Decimal(1.0)\n",
    "    _range = Decimal(1.0)\n",
    "\n",
    "    for i,s in enumerate(data):\n",
    "        low  = o_low + _range * Decimal(p_list[i,s,0])\n",
    "        high = o_low + _range * Decimal(p_list[i,s,1])\n",
    "        _range = high - low\n",
    "        o_low = low\n",
    "        o_high = high\n",
    "        \n",
    "    code=range_2_bin(low,high)\n",
    "    return code\n",
    "\n",
    "def decode(code,model):\n",
    "    p_list=get_cdf_bound(model)\n",
    "    data=[]\n",
    "    prob = bin_2_float(code)\n",
    "    low = Decimal(0.0)\n",
    "    high = Decimal(1.0)\n",
    "    _range = Decimal(1.0)\n",
    "    \n",
    "    for i in range(0,784):\n",
    "        for s in [0,1]:\n",
    "            if Decimal(p_list[i,s,0])<=prob and prob<Decimal(p_list[i,s,1]):\n",
    "                data.append(s)\n",
    "                last=s\n",
    "            else:\n",
    "                pass\n",
    "        low=Decimal(p_list[i,last,0])\n",
    "        high=Decimal(p_list[i,last,1])\n",
    "        _range=high-low\n",
    "        prob=(prob-low)/_range\n",
    "        \n",
    "    return data"
   ]
  },
  {
   "cell_type": "markdown",
   "metadata": {},
   "source": [
    "### Test"
   ]
  },
  {
   "cell_type": "code",
   "execution_count": 96,
   "metadata": {},
   "outputs": [
    {
     "data": {
      "image/png": "[encoded data removed]",
      "text/plain": [
       "<Figure size 432x288 with 1 Axes>"
      ]
     },
     "metadata": {
      "needs_background": "light"
     },
     "output_type": "display_data"
    },
    {
     "name": "stdout",
     "output_type": "stream",
     "text": [
      "compression length: 257 bits\n",
      "bits per dim: 0.3278061224489796\n"
     ]
    },
    {
     "data": {
      "image/png": "[encoded data removed]",
      "text/plain": [
       "<Figure size 432x288 with 1 Axes>"
      ]
     },
     "metadata": {
      "needs_background": "light"
     },
     "output_type": "display_data"
    }
   ],
   "source": [
    "plt.title('Original Image')\n",
    "plt.imshow(np.asarray(test_data[0]).reshape(28,28))\n",
    "plt.axis('off')\n",
    "plt.show()\n",
    "code=encode(test_data[0],model)\n",
    "print('compression length:', len(code),'bits')\n",
    "print('bits per dim:', len(code)/784)\n",
    "data=decode(code,model)\n",
    "plt.title('Recovered Image')\n",
    "plt.imshow(np.asarray(data).reshape(28,28))\n",
    "plt.axis('off')\n",
    "plt.show()"
   ]
  }
 ],
 "metadata": {
  "kernelspec": {
   "display_name": "Python 3",
   "language": "python",
   "name": "python3"
  },
  "language_info": {
   "codemirror_mode": {
    "name": "ipython",
    "version": 3
   },
   "file_extension": ".py",
   "mimetype": "text/x-python",
   "name": "python",
   "nbconvert_exporter": "python",
   "pygments_lexer": "ipython3",
   "version": "3.7.6"
  }
 },
 "nbformat": 4,
 "nbformat_minor": 4
}
